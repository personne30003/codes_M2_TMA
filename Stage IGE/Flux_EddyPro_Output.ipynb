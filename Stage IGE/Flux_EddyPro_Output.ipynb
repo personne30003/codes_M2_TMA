{
 "cells": [
  {
   "cell_type": "code",
   "execution_count": 5,
   "id": "953b0262-4e57-4713-8bc2-137ae7be6370",
   "metadata": {},
   "outputs": [
    {
     "name": "stdout",
     "output_type": "stream",
     "text": [
      "chargement des données\n",
      "fait en 0.46934986114501953\n"
     ]
    }
   ],
   "source": [
    "import os\n",
    "import numpy as np\n",
    "import pandas as pd\n",
    "import matplotlib as mpl\n",
    "import matplotlib.pyplot as plt\n",
    "import xarray as xr\n",
    "import time as clk\n",
    "\n",
    "\n",
    "repertoire_courant=os.getcwd()\n",
    "repertoire_fichiers=repertoire_courant+r\"\\Outputs_eddyPro\"+\"\\\\\"\n",
    "\n",
    "print(\"chargement des données\")\n",
    "t0=clk.time()\n",
    "\n",
    "T2_TO5_1_2min=xr.open_dataset(repertoire_fichiers+'T2_TO5_1_2min_full_output.nc')\n",
    "T2_TO5_1_30min=xr.open_dataset(repertoire_fichiers+'T2_TO5_1_30min_full_output.nc')\n",
    "\n",
    "T2_TO5_2_2min=xr.open_dataset(repertoire_fichiers+'T2_TO5_2_2min_full_output.nc')\n",
    "T2_TO5_2_30min=xr.open_dataset(repertoire_fichiers+'T2_TO5_2_30min_full_output.nc')\n",
    "\n",
    "T2_TO5_3_2min=xr.open_dataset(repertoire_fichiers+'T2_TO5_3_2min_full_output.nc')\n",
    "T2_TO5_3_30min=xr.open_dataset(repertoire_fichiers+'T2_TO5_3_30min_full_output.nc')\n",
    "\n",
    "#A FAIRE : charger les fichiers pour T2 bas haut (au pire utiliser directement le fichier de sortie d'EddyPro)\n",
    "\n",
    "T2_LW_haut_2min=xr.open_dataset(repertoire_fichiers+'T2_LW_haut_2min_full_output.nc')\n",
    "#T2_LW_haut_30min=xr.open_dataset(repertoire_fichiers+'T2_LW_haut_30min_full_output.nc')\n",
    "\n",
    "T2_LW_bas_2min=xr.open_dataset(repertoire_fichiers+'T2_LW_bas_2min_full_output.nc')\n",
    "#T2_LW_bas_30min=xr.open_dataset(repertoire_fichiers+'T2_LW_bas_30min_full_output.nc')\n",
    "\n",
    "T2_RE_bas_2min=xr.open_dataset(repertoire_fichiers+'T2_RE_bas_2min_full_output.nc')\n",
    "T2_RE_bas_30min=xr.open_dataset(repertoire_fichiers+'T2_RE_bas_30min_full_output.nc')\n",
    "\n",
    "\n",
    "T2_RE_haut_2min=xr.open_dataset(repertoire_fichiers+'T2_RE_haut_2min_full_output.nc')\n",
    "T2_RE_haut_30min=xr.open_dataset(repertoire_fichiers+'T2_RE_haut_30min_full_output.nc')\n",
    "\n",
    "print(f\"fait en {clk.time()-t0}\")"
   ]
  },
  {
   "cell_type": "code",
   "execution_count": null,
   "id": "4104d54c-ff79-4b2a-914f-17a43e079cc6",
   "metadata": {},
   "outputs": [],
   "source": [
    "#diagramme moustache du flux de chaleur\n",
    "#pour différentes hauteurs (T2_TO5)\n"
   ]
  }
 ],
 "metadata": {
  "kernelspec": {
   "display_name": "Python 3 (ipykernel)",
   "language": "python",
   "name": "python3"
  },
  "language_info": {
   "codemirror_mode": {
    "name": "ipython",
    "version": 3
   },
   "file_extension": ".py",
   "mimetype": "text/x-python",
   "name": "python",
   "nbconvert_exporter": "python",
   "pygments_lexer": "ipython3",
   "version": "3.12.1"
  },
  "widgets": {
   "application/vnd.jupyter.widget-state+json": {
    "state": {},
    "version_major": 2,
    "version_minor": 0
   }
  }
 },
 "nbformat": 4,
 "nbformat_minor": 5
}
